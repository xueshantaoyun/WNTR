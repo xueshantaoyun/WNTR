{
 "cells": [
  {
   "cell_type": "markdown",
   "metadata": {},
   "source": [
    "# WNTR Earthquake Demo"
   ]
  },
  {
   "cell_type": "markdown",
   "metadata": {},
   "source": [
    "#### Import Python packages, including WNTR"
   ]
  },
  {
   "cell_type": "code",
   "execution_count": null,
   "metadata": {
    "collapsed": false
   },
   "outputs": [],
   "source": [
    "% matplotlib inline\n",
    "\n",
    "import numpy as np\n",
    "import pandas as pd\n",
    "import matplotlib.pylab as plt\n",
    "from scipy.stats import expon\n",
    "import wntr\n",
    "\n",
    "np.random.seed(12345)"
   ]
  },
  {
   "cell_type": "markdown",
   "metadata": {},
   "source": [
    "#### Create a water network model and define earthquake characteristics"
   ]
  },
  {
   "cell_type": "code",
   "execution_count": null,
   "metadata": {
    "collapsed": false
   },
   "outputs": [],
   "source": [
    "inp_file = '../networks/Net3.inp'\n",
    "wn = wntr.network.WaterNetworkModel(inp_file)\n",
    "wn.scale_node_coordinates(1000)\n",
    "epicenter = (32000,15000) # x,y location\n",
    "magnitude = 6.5 # Richter scale\n",
    "depth = 10000 # m, shallow depth"
   ]
  },
  {
   "cell_type": "markdown",
   "metadata": {},
   "source": [
    "#### Plot location of epicenter on the network"
   ]
  },
  {
   "cell_type": "code",
   "execution_count": null,
   "metadata": {
    "collapsed": false
   },
   "outputs": [],
   "source": [
    "wntr.graphics.plot_network(wn, node_size=0)\n",
    "plt.scatter(epicenter[0], epicenter[1], s=500, c='r', marker='*', zorder=2)"
   ]
  },
  {
   "cell_type": "markdown",
   "metadata": {},
   "source": [
    "#### Generate the earthquake scenario"
   ]
  },
  {
   "cell_type": "code",
   "execution_count": null,
   "metadata": {
    "collapsed": false
   },
   "outputs": [],
   "source": [
    "#This scenario assumes uniform pipe and soil type throughout the network.  These parameters can be set for individual pipes\n",
    "#PGA = 0.001 g (0.01 m/s2) – perceptible by people\n",
    "#PGA = 0.02  g (0.2  m/s2) – people lose their balance\n",
    "#PGA = 0.50  g (5 m/s2) – very high; well-designed buildings can survive if the duration is short\n",
    "#Repair rate of 1/km (0.001/m) has been suggested as an upper bound\n",
    "\n",
    "earthquake = wntr.scenario.Earthquake(epicenter, magnitude, depth)\n",
    "\n",
    "R = earthquake.distance_to_epicenter(wn, element_type=wntr.network.Pipe)\n",
    "pga = earthquake.pga_attenuation_model(R)  \n",
    "pgv = earthquake.pgv_attenuation_model(R)\n",
    "RR = earthquake.repair_rate_model(pgv)\n",
    "L = pd.Series(wn.query_link_attribute('length', link_type = wntr.network.Pipe))\n",
    "    \n",
    "pipe_FC = wntr.scenario.FragilityCurve()\n",
    "pipe_FC.add_state('Minor leak', 1, {'Default': expon(scale=0.2)})\n",
    "pipe_FC.add_state('Major leak', 2, {'Default': expon()})\n",
    "\n",
    "plt.figure()\n",
    "wntr.graphics.plot_fragility_curve(pipe_FC, xlabel='Rate of repair * pipe length')\n",
    "\n",
    "pipe_Pr = pipe_FC.cdf_probability(RR*L)\n",
    "pipe_damage_state = pipe_FC.sample_damage_state(pipe_Pr)\n",
    "\n",
    "pipe_damage_state_map = pipe_FC.get_priority_map()\n",
    "pipe_damage_val = pipe_damage_state.map(pipe_damage_state_map)\n",
    "\n",
    "print(\"Min, Max, Average PGA: \" + str(np.round(pga.min(),2)) + \", \" + str(np.round(pga.max(),2)) + \", \" + str(np.round(pga.mean(),2)) + \" g\")\n",
    "print(\"Min, Max, Average PGV: \" + str(np.round(pgv.min(),2)) + \", \" + str(np.round(pgv.max(),2)) + \", \" + str(np.round(pgv.mean(),2)) + \" m/s\")\n",
    "print(\"Min, Max, Average repair rate: \" + str(np.round(RR.min(),5)) + \", \" + str(np.round(RR.max(),5)) + \", \" + str(np.round(RR.mean(),5)) + \" per m\")\n",
    "print(\"Min, Max, Average repair rate*pipe length: \" + str(np.round((RR*L).min(),5)) + \", \" + str(np.round((RR*L).max(),5)) + \", \" + str(np.round((RR*L).mean(),5)))\n",
    "print(\"Number of pipe failures: \" + str(sum(pipe_damage_val > 0)))"
   ]
  },
  {
   "cell_type": "markdown",
   "metadata": {},
   "source": [
    "#### Plot distance to the epicenter, peak ground acceleration, and peak ground velocity"
   ]
  },
  {
   "cell_type": "code",
   "execution_count": null,
   "metadata": {
    "collapsed": false
   },
   "outputs": [],
   "source": [
    "wntr.graphics.plot_network(wn, link_attribute=R, node_size=0, title='Distance to Epicenter')\n",
    "\n",
    "wntr.graphics.plot_network(wn, link_attribute=pga, node_size=0, link_width=1.5, title='Peak ground acceleration')\n",
    "\n",
    "wntr.graphics.plot_network(wn, link_attribute=pgv, node_size=0, link_width=1.5, title='Peak ground velocity')"
   ]
  },
  {
   "cell_type": "markdown",
   "metadata": {},
   "source": [
    "#### Plot repair rate (# of repairs needed per m) and repair rate * pipe length"
   ]
  },
  {
   "cell_type": "code",
   "execution_count": null,
   "metadata": {
    "collapsed": false
   },
   "outputs": [],
   "source": [
    "wntr.graphics.plot_network(wn, link_attribute=RR, node_size=0, link_width=1.5, title='Repair rate')\n",
    "\n",
    "wntr.graphics.plot_network(wn, link_attribute=(RR*L), node_size=0, link_width=1.5, title='Repair rate*Pipe length')"
   ]
  },
  {
   "cell_type": "markdown",
   "metadata": {},
   "source": [
    "#### Plot probability of leaks and damage state"
   ]
  },
  {
   "cell_type": "code",
   "execution_count": null,
   "metadata": {
    "collapsed": false
   },
   "outputs": [],
   "source": [
    "wntr.graphics.plot_network(wn, link_attribute=pipe_Pr['Minor leak'], node_size=0, link_range=[0,1], link_width=1.5, title='Probability of a minor leak')\n",
    "\n",
    "wntr.graphics.plot_network(wn, link_attribute=pipe_Pr['Major leak'], node_size=0, link_range=[0,1], link_width=1.5, title='Probability of a major leak')\n",
    "\n",
    "gray_red_colormap = wntr.graphics.custom_colormap(3, colors = ['0.75','blue','red'])\n",
    "wntr.graphics.plot_network(wn, link_attribute=pipe_damage_val, node_size=0, link_width=1.5, link_cmap=gray_red_colormap, title='Damage States (Blue = Minor, Red = Major)', add_colorbar=False)"
   ]
  },
  {
   "cell_type": "markdown",
   "metadata": {},
   "source": [
    "#### Simulate hydraulics without repair"
   ]
  },
  {
   "cell_type": "code",
   "execution_count": null,
   "metadata": {
    "collapsed": false
   },
   "outputs": [],
   "source": [
    "# The simulation uses pressure driven hydraulics and leak models to account for loss.\n",
    "for name, node in wn.nodes():\n",
    "    node.nominal_pressure = 15\n",
    "wn.options.time.duration = 24*3600\n",
    "wn.options.time.hydraulic_timestep = 3600\n",
    "wn.options.time.report_timestep = 3600\n",
    "\n",
    "time_of_failure = 5 # time of failure\n",
    "duration_of_failure = 20 # Select duration of failure    \n",
    "for pipe_name, damage_state in pipe_damage_state.iteritems():\n",
    "    pipe_diameter = wn.get_link(pipe_name).diameter\n",
    "    if damage_state is not None:\n",
    "        # Select leak diameter, uniform dist\n",
    "        if damage_state == 'Major leak':\n",
    "            leak_diameter = np.round(np.random.uniform(0.15,0.3*pipe_diameter,1), 2)[0]\n",
    "            leak_diameter = np.amin([leak_diameter,0.15])\n",
    "            leak_area = 3.14159/4.0*leak_diameter**2\n",
    "        elif damage_state == 'Minor leak':\n",
    "            leak_diameter = np.round(np.random.uniform(0,0.15*pipe_diameter,1), 2)[0]\n",
    "            leak_diameter = np.amin([leak_diameter,0.15])\n",
    "            leak_area = 3.14159/4.0*leak_diameter**2\n",
    "        else:\n",
    "            leak_area = 0\n",
    "        # Add pipe leak to the network\n",
    "        wn.split_pipe(pipe_name,pipe_name+'A','Leak'+pipe_name)\n",
    "        start_time = time_of_failure*3600\n",
    "        end_time = (time_of_failure+duration_of_failure)*3600\n",
    "        n = wn.get_node('Leak'+pipe_name)\n",
    "        n.add_leak(wn, area=leak_area, start_time=start_time, end_time=end_time)\n",
    "    \n",
    "sim = wntr.sim.WNTRSimulator(wn, mode='PDD')\n",
    "results = sim.run_sim()"
   ]
  },
  {
   "cell_type": "markdown",
   "metadata": {},
   "source": [
    "#### Identify highest leaks for repair¶"
   ]
  },
  {
   "cell_type": "code",
   "execution_count": null,
   "metadata": {
    "collapsed": false
   },
   "outputs": [],
   "source": [
    "# Rank leaked demand\n",
    "leaked_demand = results.node['leak_demand']\n",
    "leaked_sum = leaked_demand.sum()\n",
    "leaked_sum.sort_values(ascending=False, inplace=True)\n",
    "\n",
    "# Plot leak demand\n",
    "leaked_demand.index = leaked_demand.index/3600\n",
    "ax=leaked_demand.plot(legend=False)\n",
    "ax.set_ylabel('Leak demand (m3/s)')\n",
    "ax.set_xlabel('Time (hr)')\n",
    "\n",
    "# Select top pipes to fix\n",
    "number_of_pipes_to_repair = 4\n",
    "pipes_to_fix = leaked_sum[0:number_of_pipes_to_repair]\n",
    "print(pipes_to_fix)"
   ]
  },
  {
   "cell_type": "markdown",
   "metadata": {},
   "source": [
    "#### Simulate hydraulics with repair"
   ]
  },
  {
   "cell_type": "code",
   "execution_count": null,
   "metadata": {
    "collapsed": false
   },
   "outputs": [],
   "source": [
    "wn.reset_initial_values()\n",
    "\n",
    "duration_of_failure = 10\n",
    "start_time = time_of_failure*3600\n",
    "\n",
    "end_time = (time_of_failure+duration_of_failure)*3600\n",
    "for leak_name in pipes_to_fix.index:\n",
    "    node = wn.get_node(leak_name)\n",
    "    node.remove_leak(wn)\n",
    "    node.add_leak(wn, area=node.leak_area, start_time=start_time, end_time=end_time)\n",
    "    \n",
    "results_wrepair = sim.run_sim()"
   ]
  },
  {
   "cell_type": "markdown",
   "metadata": {},
   "source": [
    "## Compare results\n",
    "#### Node Pressure"
   ]
  },
  {
   "cell_type": "code",
   "execution_count": null,
   "metadata": {
    "collapsed": false
   },
   "outputs": [],
   "source": [
    "pressure = results.node['pressure']\n",
    "pressure_wrepair = results_wrepair.node['pressure']\n",
    "pressure.index = pressure.index/3600\n",
    "pressure_wrepair.index = pressure_wrepair.index/3600\n",
    "\n",
    "# Junction pressure, network plot\n",
    "fig, axarr = plt.subplots(1,2,figsize=(14,6))\n",
    "ax = axarr[0]\n",
    "pressure_at_24hr = pressure.loc[24,wn.junction_name_list]\n",
    "wntr.graphics.plot_network(wn, node_attribute=pressure_at_24hr, node_size=20, node_range = [0,90], title='Pressure at 24 hours, without repair', ax=ax)\n",
    "ax = axarr[1]\n",
    "pressure_at_24hr = pressure_wrepair.loc[24,wn.junction_name_list]\n",
    "wntr.graphics.plot_network(wn, node_attribute=pressure_at_24hr, node_size=20, node_range = [0,90], title='Pressure at 24 hours, with repair', ax=ax)\n",
    "\n",
    "# Junction pressure, timeseries\n",
    "fig, axarr = plt.subplots(1,2,figsize=(14,4))\n",
    "ax = axarr[0]\n",
    "pressure.loc[:,wn.junction_name_list].plot(ax=ax, legend=False)\n",
    "ax.set_ylim(ymin=0)\n",
    "ax.set_xlabel('Time (hr)')\n",
    "ax.set_ylabel('Junction Pressure (m)')\n",
    "ax.set_title('Without repair')\n",
    "ax = axarr[1]\n",
    "pressure_wrepair.loc[:,wn.junction_name_list].plot(ax=ax, legend=False)\n",
    "ax.set_ylim(ymin=0)\n",
    "ax.set_xlabel('Time (hr)')\n",
    "ax.set_ylabel('Junction Pressure (m)')\n",
    "ax.set_title('With repair')\n",
    "\n",
    "# Tank pressure, timeseries\n",
    "fig, axarr = plt.subplots(1,2,figsize=(14,4))\n",
    "ax = axarr[0]\n",
    "pressure.loc[:,wn.tank_name_list].plot(ax=ax, legend=False)\n",
    "ax.set_ylim(ymin=0)\n",
    "ax.set_xlabel('Time (hr)')\n",
    "ax.set_ylabel('Tank Pressure (m)')\n",
    "ax.set_title('Without repair')\n",
    "ax = axarr[1]\n",
    "pressure_wrepair.loc[:,wn.tank_name_list].plot(ax=ax, legend=False)\n",
    "ax.set_ylim(ymin=0)\n",
    "ax.set_xlabel('Time (hr)')\n",
    "ax.set_ylabel('Tank Pressure (m)')\n",
    "ax.set_title('With repair')"
   ]
  },
  {
   "cell_type": "markdown",
   "metadata": {},
   "source": [
    "#### Water service availability"
   ]
  },
  {
   "cell_type": "code",
   "execution_count": null,
   "metadata": {
    "collapsed": false
   },
   "outputs": [],
   "source": [
    "expected_demand = wntr.metrics.expected_demand(wn)\n",
    "demand = results.node['demand'].loc[:,wn.junction_name_list]\n",
    "demand_wrepair = results_wrepair.node['demand'].loc[:,wn.junction_name_list]\n",
    "expected_demand.index = expected_demand.index/3600\n",
    "demand.index = demand.index/3600\n",
    "demand_wrepair.index = demand_wrepair.index/3600\n",
    "\n",
    "wsa = wntr.metrics.water_service_availability(expected_demand, demand)\n",
    "wsa_wrepair = wntr.metrics.water_service_availability(expected_demand, demand_wrepair)\n",
    "\n",
    "# WSA\n",
    "fig, axarr = plt.subplots(1,2,figsize=(14,4))\n",
    "ax = axarr[0]\n",
    "wsa.plot(ax=ax, legend=False)\n",
    "ax.set_ylim(ymin=-0.05, ymax=1.05)\n",
    "ax.set_xlabel('Time (hr)')\n",
    "ax.set_ylabel('Water service availability')\n",
    "ax.set_title('Without repair')\n",
    "ax = axarr[1]\n",
    "wsa_wrepair.plot(ax=ax, legend=False)\n",
    "ax.set_ylim(ymin=-0.05, ymax=1.05)\n",
    "ax.set_xlabel('Time (hr)')\n",
    "ax.set_ylabel('Water service availability')\n",
    "ax.set_title('With repair')"
   ]
  },
  {
   "cell_type": "markdown",
   "metadata": {},
   "source": [
    "#### Population impacted"
   ]
  },
  {
   "cell_type": "code",
   "execution_count": null,
   "metadata": {
    "collapsed": false
   },
   "outputs": [],
   "source": [
    "pop = wntr.metrics.population(wn)\n",
    "pop_impacted = wntr.metrics.population_impacted(pop, wsa, np.less, 0.8)\n",
    "pop_impacted_wrepair = wntr.metrics.population_impacted(pop, wsa_wrepair, np.less, 0.8)\n",
    "\n",
    "# Population impacted\n",
    "fig, axarr = plt.subplots(1,2,figsize=(14,4))\n",
    "ax = axarr[0]\n",
    "pop_impacted.plot(ax=ax, legend=False)\n",
    "ax.set_ylim(ymax=35000)\n",
    "ax.set_xlabel('Time (hr)')\n",
    "ax.set_ylabel('Population impacted')\n",
    "ax.set_title('Without repair')\n",
    "ax = axarr[1]\n",
    "pop_impacted_wrepair.plot(ax=ax, legend=False)\n",
    "ax.set_ylim(ymax=35000)\n",
    "ax.set_xlabel('Time (hr)')\n",
    "ax.set_ylabel('Population impacted')\n",
    "ax.set_title('With repair')"
   ]
  },
  {
   "cell_type": "code",
   "execution_count": null,
   "metadata": {
    "collapsed": true
   },
   "outputs": [],
   "source": []
  }
 ],
 "metadata": {
  "anaconda-cloud": {},
  "kernelspec": {
   "display_name": "Python 3",
   "language": "python",
   "name": "python3"
  },
  "language_info": {
   "codemirror_mode": {
    "name": "ipython",
    "version": 3
   },
   "file_extension": ".py",
   "mimetype": "text/x-python",
   "name": "python",
   "nbconvert_exporter": "python",
   "pygments_lexer": "ipython3",
   "version": "3.6.0"
  }
 },
 "nbformat": 4,
 "nbformat_minor": 0
}
